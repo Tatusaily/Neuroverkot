{
 "cells": [
  {
   "cell_type": "markdown",
   "metadata": {},
   "source": [
    "# Iris -dataset assignment\n",
    "## Let's learn neural networking with the iris -dataset\n",
    "First I prepare the dataset by importing it and formatting it so it suits my future model. Then I use keras to create a model and train it."
   ]
  },
  {
   "cell_type": "code",
   "execution_count": 6,
   "metadata": {},
   "outputs": [],
   "source": [
    "#importing the required libraries\n",
    "import numpy as np\n",
    "import pandas as pd\n",
    "import matplotlib.pyplot as plt\n",
    "import tensorflow as tf\n",
    "from tensorflow import keras as keras\n",
    "from keras.models import Sequential\n",
    "from keras.layers import Dense\n",
    "from keras.layers import Input\n",
    "from keras.utils import to_categorical"
   ]
  },
  {
   "cell_type": "markdown",
   "metadata": {},
   "source": [
    "# Dataset Preparation"
   ]
  },
  {
   "cell_type": "markdown",
   "metadata": {},
   "source": [
    "### Import dataset from the web"
   ]
  },
  {
   "cell_type": "code",
   "execution_count": 7,
   "metadata": {},
   "outputs": [
    {
     "name": "stdout",
     "output_type": "stream",
     "text": [
      "   sepal-length  sepal-width  petal-length  petal-width        class\n",
      "0           5.1          3.5           1.4          0.2  Iris-setosa\n",
      "1           4.9          3.0           1.4          0.2  Iris-setosa\n",
      "2           4.7          3.2           1.3          0.2  Iris-setosa\n",
      "3           4.6          3.1           1.5          0.2  Iris-setosa\n",
      "4           5.0          3.6           1.4          0.2  Iris-setosa\n",
      "(150, 5)\n"
     ]
    }
   ],
   "source": [
    "# prepare dataset\n",
    "url = \"https://archive.ics.uci.edu/ml/machine-learning-databases/iris/iris.data\"\n",
    "names = ['sepal-length', 'sepal-width', 'petal-length', 'petal-width', 'class']\n",
    "dataset = pd.read_csv(url, names=names)\n",
    "print(dataset.head())\n",
    "print(dataset.shape)"
   ]
  },
  {
   "cell_type": "markdown",
   "metadata": {},
   "source": [
    "### Pre-preparation\n",
    "I shuffle the dataset and one-hot encode the classifications"
   ]
  },
  {
   "cell_type": "code",
   "execution_count": 8,
   "metadata": {},
   "outputs": [
    {
     "name": "stdout",
     "output_type": "stream",
     "text": [
      "   sepal-length  sepal-width  petal-length  petal-width\n",
      "0           6.4          3.2           4.5          1.5\n",
      "1           7.2          3.0           5.8          1.6\n",
      "2           6.5          3.2           5.1          2.0\n",
      "3           6.1          2.9           4.7          1.4\n",
      "4           6.0          2.9           4.5          1.5\n",
      "[[0. 1. 0.]\n",
      " [0. 0. 1.]\n",
      " [0. 0. 1.]\n",
      " [0. 1. 0.]\n",
      " [0. 1. 0.]]\n"
     ]
    }
   ],
   "source": [
    "# I do not use np.random.shuffle(), because then I would have to convert the dataset to a numpy array\n",
    "# and then back to a pandas dataframe, which is not very efficient\n",
    "dataset = dataset.sample(frac=1).reset_index(drop=True)\n",
    "\n",
    "# one-hot encode the class labels\n",
    "dataset['class'] = pd.Categorical(dataset['class']).codes\n",
    "\n",
    "# split the dataset into input and output features\n",
    "X = pd.DataFrame(dataset.drop('class', axis=1))\n",
    "Y = to_categorical(dataset['class'])\n",
    "\n",
    "print(X.head())\n",
    "print(Y[:5])\n"
   ]
  },
  {
   "cell_type": "markdown",
   "metadata": {},
   "source": [
    "### Actual modeling with Keras\n",
    "1. Initialize the model with input layer of 4 features\n",
    "2. Create a hidden layer with 32 neurons with a non-linear ReLU activation function\n",
    "3. Final output layer with 3 neurons (3 Iris classifications)\n",
    "\n",
    "Optimizer is the Adam optimizer. I started with the RMSProp, but Adam gave better results.\n",
    "\n",
    "Summary of the model's architechture and training is printed and graphed below."
   ]
  },
  {
   "cell_type": "code",
   "execution_count": 27,
   "metadata": {},
   "outputs": [
    {
     "data": {
      "text/html": [
       "<pre style=\"white-space:pre;overflow-x:auto;line-height:normal;font-family:Menlo,'DejaVu Sans Mono',consolas,'Courier New',monospace\"><span style=\"font-weight: bold\">Model: \"sequential_10\"</span>\n",
       "</pre>\n"
      ],
      "text/plain": [
       "\u001b[1mModel: \"sequential_10\"\u001b[0m\n"
      ]
     },
     "metadata": {},
     "output_type": "display_data"
    },
    {
     "data": {
      "text/html": [
       "<pre style=\"white-space:pre;overflow-x:auto;line-height:normal;font-family:Menlo,'DejaVu Sans Mono',consolas,'Courier New',monospace\">┏━━━━━━━━━━━━━━━━━━━━━━━━━━━━━━━━━┳━━━━━━━━━━━━━━━━━━━━━━━━┳━━━━━━━━━━━━━━━┓\n",
       "┃<span style=\"font-weight: bold\"> Layer (type)                    </span>┃<span style=\"font-weight: bold\"> Output Shape           </span>┃<span style=\"font-weight: bold\">       Param # </span>┃\n",
       "┡━━━━━━━━━━━━━━━━━━━━━━━━━━━━━━━━━╇━━━━━━━━━━━━━━━━━━━━━━━━╇━━━━━━━━━━━━━━━┩\n",
       "│ dense_20 (<span style=\"color: #0087ff; text-decoration-color: #0087ff\">Dense</span>)                │ (<span style=\"color: #00d7ff; text-decoration-color: #00d7ff\">None</span>, <span style=\"color: #00af00; text-decoration-color: #00af00\">32</span>)             │           <span style=\"color: #00af00; text-decoration-color: #00af00\">160</span> │\n",
       "├─────────────────────────────────┼────────────────────────┼───────────────┤\n",
       "│ dense_21 (<span style=\"color: #0087ff; text-decoration-color: #0087ff\">Dense</span>)                │ (<span style=\"color: #00d7ff; text-decoration-color: #00d7ff\">None</span>, <span style=\"color: #00af00; text-decoration-color: #00af00\">3</span>)              │            <span style=\"color: #00af00; text-decoration-color: #00af00\">99</span> │\n",
       "└─────────────────────────────────┴────────────────────────┴───────────────┘\n",
       "</pre>\n"
      ],
      "text/plain": [
       "┏━━━━━━━━━━━━━━━━━━━━━━━━━━━━━━━━━┳━━━━━━━━━━━━━━━━━━━━━━━━┳━━━━━━━━━━━━━━━┓\n",
       "┃\u001b[1m \u001b[0m\u001b[1mLayer (type)                   \u001b[0m\u001b[1m \u001b[0m┃\u001b[1m \u001b[0m\u001b[1mOutput Shape          \u001b[0m\u001b[1m \u001b[0m┃\u001b[1m \u001b[0m\u001b[1m      Param #\u001b[0m\u001b[1m \u001b[0m┃\n",
       "┡━━━━━━━━━━━━━━━━━━━━━━━━━━━━━━━━━╇━━━━━━━━━━━━━━━━━━━━━━━━╇━━━━━━━━━━━━━━━┩\n",
       "│ dense_20 (\u001b[38;5;33mDense\u001b[0m)                │ (\u001b[38;5;45mNone\u001b[0m, \u001b[38;5;34m32\u001b[0m)             │           \u001b[38;5;34m160\u001b[0m │\n",
       "├─────────────────────────────────┼────────────────────────┼───────────────┤\n",
       "│ dense_21 (\u001b[38;5;33mDense\u001b[0m)                │ (\u001b[38;5;45mNone\u001b[0m, \u001b[38;5;34m3\u001b[0m)              │            \u001b[38;5;34m99\u001b[0m │\n",
       "└─────────────────────────────────┴────────────────────────┴───────────────┘\n"
      ]
     },
     "metadata": {},
     "output_type": "display_data"
    },
    {
     "data": {
      "text/html": [
       "<pre style=\"white-space:pre;overflow-x:auto;line-height:normal;font-family:Menlo,'DejaVu Sans Mono',consolas,'Courier New',monospace\"><span style=\"font-weight: bold\"> Total params: </span><span style=\"color: #00af00; text-decoration-color: #00af00\">259</span> (1.01 KB)\n",
       "</pre>\n"
      ],
      "text/plain": [
       "\u001b[1m Total params: \u001b[0m\u001b[38;5;34m259\u001b[0m (1.01 KB)\n"
      ]
     },
     "metadata": {},
     "output_type": "display_data"
    },
    {
     "data": {
      "text/html": [
       "<pre style=\"white-space:pre;overflow-x:auto;line-height:normal;font-family:Menlo,'DejaVu Sans Mono',consolas,'Courier New',monospace\"><span style=\"font-weight: bold\"> Trainable params: </span><span style=\"color: #00af00; text-decoration-color: #00af00\">259</span> (1.01 KB)\n",
       "</pre>\n"
      ],
      "text/plain": [
       "\u001b[1m Trainable params: \u001b[0m\u001b[38;5;34m259\u001b[0m (1.01 KB)\n"
      ]
     },
     "metadata": {},
     "output_type": "display_data"
    },
    {
     "data": {
      "text/html": [
       "<pre style=\"white-space:pre;overflow-x:auto;line-height:normal;font-family:Menlo,'DejaVu Sans Mono',consolas,'Courier New',monospace\"><span style=\"font-weight: bold\"> Non-trainable params: </span><span style=\"color: #00af00; text-decoration-color: #00af00\">0</span> (0.00 B)\n",
       "</pre>\n"
      ],
      "text/plain": [
       "\u001b[1m Non-trainable params: \u001b[0m\u001b[38;5;34m0\u001b[0m (0.00 B)\n"
      ]
     },
     "metadata": {},
     "output_type": "display_data"
    },
    {
     "name": "stdout",
     "output_type": "stream",
     "text": [
      "Epoch 1/150\n",
      "8/8 - 0s - 46ms/step - accuracy: 0.3333 - loss: 1.9374 - val_accuracy: 0.3333 - val_loss: 1.4219\n",
      "Epoch 2/150\n",
      "8/8 - 0s - 6ms/step - accuracy: 0.3583 - loss: 1.7217 - val_accuracy: 0.4333 - val_loss: 1.2412\n",
      "Epoch 3/150\n",
      "8/8 - 0s - 6ms/step - accuracy: 0.4750 - loss: 1.5421 - val_accuracy: 0.6667 - val_loss: 1.0995\n",
      "Epoch 4/150\n",
      "8/8 - 0s - 6ms/step - accuracy: 0.6000 - loss: 1.3906 - val_accuracy: 0.7667 - val_loss: 0.9854\n",
      "Epoch 5/150\n",
      "8/8 - 0s - 6ms/step - accuracy: 0.6417 - loss: 1.2491 - val_accuracy: 0.7667 - val_loss: 0.8960\n",
      "Epoch 6/150\n",
      "8/8 - 0s - 6ms/step - accuracy: 0.6417 - loss: 1.1342 - val_accuracy: 0.7667 - val_loss: 0.8234\n",
      "Epoch 7/150\n",
      "8/8 - 0s - 6ms/step - accuracy: 0.6417 - loss: 1.0296 - val_accuracy: 0.7667 - val_loss: 0.7655\n",
      "Epoch 8/150\n",
      "8/8 - 0s - 6ms/step - accuracy: 0.6417 - loss: 0.9429 - val_accuracy: 0.7667 - val_loss: 0.7239\n",
      "Epoch 9/150\n",
      "8/8 - 0s - 6ms/step - accuracy: 0.6417 - loss: 0.8643 - val_accuracy: 0.7667 - val_loss: 0.6951\n",
      "Epoch 10/150\n",
      "8/8 - 0s - 5ms/step - accuracy: 0.6417 - loss: 0.8040 - val_accuracy: 0.7667 - val_loss: 0.6752\n",
      "Epoch 11/150\n",
      "8/8 - 0s - 6ms/step - accuracy: 0.6417 - loss: 0.7646 - val_accuracy: 0.8000 - val_loss: 0.6650\n",
      "Epoch 12/150\n",
      "8/8 - 0s - 6ms/step - accuracy: 0.7417 - loss: 0.7317 - val_accuracy: 0.9000 - val_loss: 0.6577\n",
      "Epoch 13/150\n",
      "8/8 - 0s - 5ms/step - accuracy: 0.8500 - loss: 0.7090 - val_accuracy: 0.9667 - val_loss: 0.6511\n",
      "Epoch 14/150\n",
      "8/8 - 0s - 6ms/step - accuracy: 0.9000 - loss: 0.6884 - val_accuracy: 0.9667 - val_loss: 0.6404\n",
      "Epoch 15/150\n",
      "8/8 - 0s - 5ms/step - accuracy: 0.9000 - loss: 0.6726 - val_accuracy: 0.9667 - val_loss: 0.6271\n",
      "Epoch 16/150\n",
      "8/8 - 0s - 6ms/step - accuracy: 0.9167 - loss: 0.6586 - val_accuracy: 0.9667 - val_loss: 0.6164\n",
      "Epoch 17/150\n",
      "8/8 - 0s - 5ms/step - accuracy: 0.9167 - loss: 0.6452 - val_accuracy: 0.9667 - val_loss: 0.6004\n",
      "Epoch 18/150\n",
      "8/8 - 0s - 6ms/step - accuracy: 0.9000 - loss: 0.6331 - val_accuracy: 0.9667 - val_loss: 0.5870\n",
      "Epoch 19/150\n",
      "8/8 - 0s - 6ms/step - accuracy: 0.9000 - loss: 0.6218 - val_accuracy: 0.9667 - val_loss: 0.5796\n",
      "Epoch 20/150\n",
      "8/8 - 0s - 6ms/step - accuracy: 0.9417 - loss: 0.6114 - val_accuracy: 0.9667 - val_loss: 0.5730\n",
      "Epoch 21/150\n",
      "8/8 - 0s - 5ms/step - accuracy: 0.9583 - loss: 0.6010 - val_accuracy: 0.9667 - val_loss: 0.5658\n",
      "Epoch 22/150\n",
      "8/8 - 0s - 6ms/step - accuracy: 0.9667 - loss: 0.5916 - val_accuracy: 0.9667 - val_loss: 0.5597\n",
      "Epoch 23/150\n",
      "8/8 - 0s - 5ms/step - accuracy: 0.9667 - loss: 0.5833 - val_accuracy: 0.9667 - val_loss: 0.5535\n",
      "Epoch 24/150\n",
      "8/8 - 0s - 5ms/step - accuracy: 0.9667 - loss: 0.5750 - val_accuracy: 0.9667 - val_loss: 0.5389\n",
      "Epoch 25/150\n",
      "8/8 - 0s - 6ms/step - accuracy: 0.9583 - loss: 0.5662 - val_accuracy: 0.9667 - val_loss: 0.5301\n",
      "Epoch 26/150\n",
      "8/8 - 0s - 5ms/step - accuracy: 0.9583 - loss: 0.5587 - val_accuracy: 0.9667 - val_loss: 0.5245\n",
      "Epoch 27/150\n",
      "8/8 - 0s - 5ms/step - accuracy: 0.9667 - loss: 0.5507 - val_accuracy: 0.9667 - val_loss: 0.5190\n",
      "Epoch 28/150\n",
      "8/8 - 0s - 6ms/step - accuracy: 0.9750 - loss: 0.5439 - val_accuracy: 0.9667 - val_loss: 0.5166\n",
      "Epoch 29/150\n",
      "8/8 - 0s - 6ms/step - accuracy: 0.9667 - loss: 0.5370 - val_accuracy: 0.9667 - val_loss: 0.5117\n",
      "Epoch 30/150\n",
      "8/8 - 0s - 6ms/step - accuracy: 0.9583 - loss: 0.5306 - val_accuracy: 0.9667 - val_loss: 0.5070\n",
      "Epoch 31/150\n",
      "8/8 - 0s - 6ms/step - accuracy: 0.9583 - loss: 0.5237 - val_accuracy: 0.9667 - val_loss: 0.4976\n",
      "Epoch 32/150\n",
      "8/8 - 0s - 6ms/step - accuracy: 0.9667 - loss: 0.5170 - val_accuracy: 0.9667 - val_loss: 0.4917\n",
      "Epoch 33/150\n",
      "8/8 - 0s - 6ms/step - accuracy: 0.9667 - loss: 0.5112 - val_accuracy: 0.9667 - val_loss: 0.4841\n",
      "Epoch 34/150\n",
      "8/8 - 0s - 6ms/step - accuracy: 0.9667 - loss: 0.5054 - val_accuracy: 0.9667 - val_loss: 0.4796\n",
      "Epoch 35/150\n",
      "8/8 - 0s - 6ms/step - accuracy: 0.9667 - loss: 0.5000 - val_accuracy: 0.9667 - val_loss: 0.4739\n",
      "Epoch 36/150\n",
      "8/8 - 0s - 5ms/step - accuracy: 0.9667 - loss: 0.4944 - val_accuracy: 0.9667 - val_loss: 0.4703\n",
      "Epoch 37/150\n",
      "8/8 - 0s - 5ms/step - accuracy: 0.9583 - loss: 0.4889 - val_accuracy: 0.9667 - val_loss: 0.4643\n",
      "Epoch 38/150\n",
      "8/8 - 0s - 6ms/step - accuracy: 0.9667 - loss: 0.4835 - val_accuracy: 0.9667 - val_loss: 0.4538\n",
      "Epoch 39/150\n",
      "8/8 - 0s - 6ms/step - accuracy: 0.9750 - loss: 0.4787 - val_accuracy: 0.9667 - val_loss: 0.4493\n",
      "Epoch 40/150\n",
      "8/8 - 0s - 6ms/step - accuracy: 0.9750 - loss: 0.4739 - val_accuracy: 0.9667 - val_loss: 0.4452\n",
      "Epoch 41/150\n",
      "8/8 - 0s - 6ms/step - accuracy: 0.9750 - loss: 0.4689 - val_accuracy: 0.9667 - val_loss: 0.4442\n",
      "Epoch 42/150\n",
      "8/8 - 0s - 5ms/step - accuracy: 0.9583 - loss: 0.4641 - val_accuracy: 0.9667 - val_loss: 0.4450\n",
      "Epoch 43/150\n",
      "8/8 - 0s - 5ms/step - accuracy: 0.9583 - loss: 0.4597 - val_accuracy: 0.9667 - val_loss: 0.4419\n",
      "Epoch 44/150\n",
      "8/8 - 0s - 6ms/step - accuracy: 0.9583 - loss: 0.4550 - val_accuracy: 0.9667 - val_loss: 0.4350\n",
      "Epoch 45/150\n",
      "8/8 - 0s - 6ms/step - accuracy: 0.9583 - loss: 0.4508 - val_accuracy: 0.9667 - val_loss: 0.4312\n",
      "Epoch 46/150\n",
      "8/8 - 0s - 6ms/step - accuracy: 0.9583 - loss: 0.4458 - val_accuracy: 0.9667 - val_loss: 0.4200\n",
      "Epoch 47/150\n",
      "8/8 - 0s - 6ms/step - accuracy: 0.9750 - loss: 0.4428 - val_accuracy: 0.9667 - val_loss: 0.4119\n",
      "Epoch 48/150\n",
      "8/8 - 0s - 6ms/step - accuracy: 0.9750 - loss: 0.4380 - val_accuracy: 0.9667 - val_loss: 0.4097\n",
      "Epoch 49/150\n",
      "8/8 - 0s - 6ms/step - accuracy: 0.9667 - loss: 0.4336 - val_accuracy: 0.9667 - val_loss: 0.4098\n",
      "Epoch 50/150\n",
      "8/8 - 0s - 5ms/step - accuracy: 0.9583 - loss: 0.4293 - val_accuracy: 0.9667 - val_loss: 0.4099\n",
      "Epoch 51/150\n",
      "8/8 - 0s - 5ms/step - accuracy: 0.9583 - loss: 0.4254 - val_accuracy: 0.9667 - val_loss: 0.4094\n",
      "Epoch 52/150\n",
      "8/8 - 0s - 6ms/step - accuracy: 0.9667 - loss: 0.4217 - val_accuracy: 0.9667 - val_loss: 0.4090\n",
      "Epoch 53/150\n",
      "8/8 - 0s - 5ms/step - accuracy: 0.9667 - loss: 0.4184 - val_accuracy: 0.9667 - val_loss: 0.4025\n",
      "Epoch 54/150\n",
      "8/8 - 0s - 5ms/step - accuracy: 0.9667 - loss: 0.4142 - val_accuracy: 0.9667 - val_loss: 0.4006\n",
      "Epoch 55/150\n",
      "8/8 - 0s - 5ms/step - accuracy: 0.9667 - loss: 0.4128 - val_accuracy: 0.9667 - val_loss: 0.4008\n",
      "Epoch 56/150\n",
      "8/8 - 0s - 6ms/step - accuracy: 0.9667 - loss: 0.4065 - val_accuracy: 0.9667 - val_loss: 0.3878\n",
      "Epoch 57/150\n",
      "8/8 - 0s - 5ms/step - accuracy: 0.9583 - loss: 0.4036 - val_accuracy: 0.9667 - val_loss: 0.3833\n",
      "Epoch 58/150\n",
      "8/8 - 0s - 6ms/step - accuracy: 0.9583 - loss: 0.3996 - val_accuracy: 0.9667 - val_loss: 0.3757\n",
      "Epoch 59/150\n",
      "8/8 - 0s - 5ms/step - accuracy: 0.9583 - loss: 0.3965 - val_accuracy: 0.9667 - val_loss: 0.3722\n",
      "Epoch 60/150\n",
      "8/8 - 0s - 6ms/step - accuracy: 0.9667 - loss: 0.3932 - val_accuracy: 0.9667 - val_loss: 0.3655\n",
      "Epoch 61/150\n",
      "8/8 - 0s - 5ms/step - accuracy: 0.9583 - loss: 0.3908 - val_accuracy: 0.9667 - val_loss: 0.3683\n",
      "Epoch 62/150\n",
      "8/8 - 0s - 5ms/step - accuracy: 0.9667 - loss: 0.3867 - val_accuracy: 0.9667 - val_loss: 0.3681\n",
      "Epoch 63/150\n",
      "8/8 - 0s - 5ms/step - accuracy: 0.9583 - loss: 0.3831 - val_accuracy: 0.9667 - val_loss: 0.3596\n",
      "Epoch 64/150\n",
      "8/8 - 0s - 6ms/step - accuracy: 0.9583 - loss: 0.3800 - val_accuracy: 0.9667 - val_loss: 0.3595\n",
      "Epoch 65/150\n",
      "8/8 - 0s - 5ms/step - accuracy: 0.9667 - loss: 0.3768 - val_accuracy: 0.9667 - val_loss: 0.3571\n",
      "Epoch 66/150\n",
      "8/8 - 0s - 6ms/step - accuracy: 0.9667 - loss: 0.3736 - val_accuracy: 0.9667 - val_loss: 0.3562\n",
      "Epoch 67/150\n",
      "8/8 - 0s - 6ms/step - accuracy: 0.9667 - loss: 0.3701 - val_accuracy: 0.9667 - val_loss: 0.3525\n",
      "Epoch 68/150\n",
      "8/8 - 0s - 6ms/step - accuracy: 0.9667 - loss: 0.3675 - val_accuracy: 0.9667 - val_loss: 0.3515\n",
      "Epoch 69/150\n",
      "8/8 - 0s - 5ms/step - accuracy: 0.9667 - loss: 0.3642 - val_accuracy: 0.9667 - val_loss: 0.3462\n",
      "Epoch 70/150\n",
      "8/8 - 0s - 6ms/step - accuracy: 0.9667 - loss: 0.3609 - val_accuracy: 0.9667 - val_loss: 0.3473\n",
      "Epoch 71/150\n",
      "8/8 - 0s - 5ms/step - accuracy: 0.9667 - loss: 0.3581 - val_accuracy: 0.9667 - val_loss: 0.3410\n",
      "Epoch 72/150\n",
      "8/8 - 0s - 5ms/step - accuracy: 0.9667 - loss: 0.3548 - val_accuracy: 0.9667 - val_loss: 0.3393\n",
      "Epoch 73/150\n",
      "8/8 - 0s - 5ms/step - accuracy: 0.9667 - loss: 0.3529 - val_accuracy: 0.9667 - val_loss: 0.3386\n",
      "Epoch 74/150\n",
      "8/8 - 0s - 6ms/step - accuracy: 0.9667 - loss: 0.3490 - val_accuracy: 0.9667 - val_loss: 0.3302\n",
      "Epoch 75/150\n",
      "8/8 - 0s - 6ms/step - accuracy: 0.9667 - loss: 0.3466 - val_accuracy: 0.9667 - val_loss: 0.3268\n",
      "Epoch 76/150\n",
      "8/8 - 0s - 6ms/step - accuracy: 0.9667 - loss: 0.3435 - val_accuracy: 0.9667 - val_loss: 0.3252\n",
      "Epoch 77/150\n",
      "8/8 - 0s - 5ms/step - accuracy: 0.9667 - loss: 0.3412 - val_accuracy: 0.9667 - val_loss: 0.3275\n",
      "Epoch 78/150\n",
      "8/8 - 0s - 6ms/step - accuracy: 0.9667 - loss: 0.3379 - val_accuracy: 0.9667 - val_loss: 0.3209\n",
      "Epoch 79/150\n",
      "8/8 - 0s - 5ms/step - accuracy: 0.9667 - loss: 0.3351 - val_accuracy: 0.9667 - val_loss: 0.3169\n",
      "Epoch 80/150\n",
      "8/8 - 0s - 6ms/step - accuracy: 0.9667 - loss: 0.3325 - val_accuracy: 0.9667 - val_loss: 0.3146\n",
      "Epoch 81/150\n",
      "8/8 - 0s - 5ms/step - accuracy: 0.9667 - loss: 0.3299 - val_accuracy: 0.9667 - val_loss: 0.3120\n",
      "Epoch 82/150\n",
      "8/8 - 0s - 5ms/step - accuracy: 0.9667 - loss: 0.3271 - val_accuracy: 0.9667 - val_loss: 0.3135\n",
      "Epoch 83/150\n",
      "8/8 - 0s - 6ms/step - accuracy: 0.9667 - loss: 0.3246 - val_accuracy: 0.9667 - val_loss: 0.3110\n",
      "Epoch 84/150\n",
      "8/8 - 0s - 5ms/step - accuracy: 0.9667 - loss: 0.3222 - val_accuracy: 0.9667 - val_loss: 0.3111\n",
      "Epoch 85/150\n",
      "8/8 - 0s - 5ms/step - accuracy: 0.9667 - loss: 0.3193 - val_accuracy: 0.9667 - val_loss: 0.3043\n",
      "Epoch 86/150\n",
      "8/8 - 0s - 6ms/step - accuracy: 0.9667 - loss: 0.3169 - val_accuracy: 0.9667 - val_loss: 0.2984\n",
      "Epoch 87/150\n",
      "8/8 - 0s - 5ms/step - accuracy: 0.9667 - loss: 0.3143 - val_accuracy: 0.9667 - val_loss: 0.2958\n",
      "Epoch 88/150\n",
      "8/8 - 0s - 6ms/step - accuracy: 0.9667 - loss: 0.3121 - val_accuracy: 0.9667 - val_loss: 0.2930\n",
      "Epoch 89/150\n",
      "8/8 - 0s - 5ms/step - accuracy: 0.9667 - loss: 0.3092 - val_accuracy: 0.9667 - val_loss: 0.2949\n",
      "Epoch 90/150\n",
      "8/8 - 0s - 5ms/step - accuracy: 0.9667 - loss: 0.3068 - val_accuracy: 0.9667 - val_loss: 0.2931\n",
      "Epoch 91/150\n",
      "8/8 - 0s - 5ms/step - accuracy: 0.9667 - loss: 0.3044 - val_accuracy: 0.9667 - val_loss: 0.2909\n",
      "Epoch 92/150\n",
      "8/8 - 0s - 5ms/step - accuracy: 0.9667 - loss: 0.3021 - val_accuracy: 1.0000 - val_loss: 0.2924\n",
      "Epoch 93/150\n",
      "8/8 - 0s - 5ms/step - accuracy: 0.9667 - loss: 0.3001 - val_accuracy: 1.0000 - val_loss: 0.2896\n",
      "Epoch 94/150\n",
      "8/8 - 0s - 5ms/step - accuracy: 0.9667 - loss: 0.2973 - val_accuracy: 0.9667 - val_loss: 0.2776\n",
      "Epoch 95/150\n",
      "8/8 - 0s - 5ms/step - accuracy: 0.9667 - loss: 0.2952 - val_accuracy: 0.9667 - val_loss: 0.2734\n",
      "Epoch 96/150\n",
      "8/8 - 0s - 5ms/step - accuracy: 0.9667 - loss: 0.2923 - val_accuracy: 0.9667 - val_loss: 0.2756\n",
      "Epoch 97/150\n",
      "8/8 - 0s - 5ms/step - accuracy: 0.9667 - loss: 0.2915 - val_accuracy: 0.9667 - val_loss: 0.2716\n",
      "Epoch 98/150\n",
      "8/8 - 0s - 6ms/step - accuracy: 0.9667 - loss: 0.2881 - val_accuracy: 1.0000 - val_loss: 0.2789\n",
      "Epoch 99/150\n",
      "8/8 - 0s - 6ms/step - accuracy: 0.9583 - loss: 0.2865 - val_accuracy: 1.0000 - val_loss: 0.2778\n",
      "Epoch 100/150\n",
      "8/8 - 0s - 5ms/step - accuracy: 0.9667 - loss: 0.2835 - val_accuracy: 0.9667 - val_loss: 0.2637\n",
      "Epoch 101/150\n",
      "8/8 - 0s - 6ms/step - accuracy: 0.9833 - loss: 0.2830 - val_accuracy: 0.9667 - val_loss: 0.2536\n",
      "Epoch 102/150\n",
      "8/8 - 0s - 5ms/step - accuracy: 0.9750 - loss: 0.2797 - val_accuracy: 0.9667 - val_loss: 0.2602\n",
      "Epoch 103/150\n",
      "8/8 - 0s - 5ms/step - accuracy: 0.9667 - loss: 0.2768 - val_accuracy: 1.0000 - val_loss: 0.2600\n",
      "Epoch 104/150\n",
      "8/8 - 0s - 5ms/step - accuracy: 0.9667 - loss: 0.2754 - val_accuracy: 1.0000 - val_loss: 0.2645\n",
      "Epoch 105/150\n",
      "8/8 - 0s - 5ms/step - accuracy: 0.9667 - loss: 0.2729 - val_accuracy: 1.0000 - val_loss: 0.2615\n",
      "Epoch 106/150\n",
      "8/8 - 0s - 6ms/step - accuracy: 0.9667 - loss: 0.2707 - val_accuracy: 1.0000 - val_loss: 0.2554\n"
     ]
    },
    {
     "data": {
      "text/plain": [
       "<keras.src.callbacks.history.History at 0x1a3aaca2390>"
      ]
     },
     "execution_count": 27,
     "metadata": {},
     "output_type": "execute_result"
    }
   ],
   "source": [
    "# fit\n",
    "\n",
    "model = Sequential([\n",
    "    Input(shape=(4,)),\n",
    "    Dense(32, activation='relu'),\n",
    "    Dense(3, activation='softmax')\n",
    "])\n",
    "\n",
    "optimizer = keras.optimizers.Adam(\n",
    "    learning_rate=0.0005\n",
    ")\n",
    "\n",
    "model.compile(optimizer=optimizer,\n",
    "              loss='categorical_crossentropy',\n",
    "              metrics=['accuracy'])\n",
    "\n",
    "model.summary()\n",
    "\n",
    "early_stopping = keras.callbacks.EarlyStopping(\n",
    "    monitor='val_loss',\n",
    "    patience=5,\n",
    "    min_delta=0.001,\n",
    "    restore_best_weights=True\n",
    ")\n",
    "\n",
    "model.fit(X, Y, \n",
    "          epochs=150, \n",
    "          batch_size=16, \n",
    "          verbose=2, \n",
    "          validation_split=0.2,\n",
    "          shuffle=True, \n",
    "          callbacks=[early_stopping])\n",
    "\n"
   ]
  },
  {
   "cell_type": "markdown",
   "metadata": {},
   "source": [
    "### GRAPHING"
   ]
  },
  {
   "cell_type": "code",
   "execution_count": 28,
   "metadata": {},
   "outputs": [
    {
     "data": {
      "image/png": "[encoded data removed]",
      "text/plain": [
       "<Figure size 1200x500 with 2 Axes>"
      ]
     },
     "metadata": {},
     "output_type": "display_data"
    }
   ],
   "source": [
    "# Extract training history\n",
    "history = model.history.history\n",
    "\n",
    "# Create a figure with two subplots\n",
    "plt.figure(figsize=(12, 5))\n",
    "\n",
    "# Plot accuracy metrics\n",
    "plt.subplot(1, 2, 1)\n",
    "plt.plot(history['accuracy'], label='Training Accuracy')\n",
    "plt.plot(history['val_accuracy'], label='Validation Accuracy')\n",
    "plt.title('Model Accuracy')\n",
    "plt.ylabel('Accuracy')\n",
    "plt.xlabel('Epoch')\n",
    "plt.legend(loc='lower right')\n",
    "\n",
    "# Plot loss metrics\n",
    "plt.subplot(1, 2, 2)\n",
    "plt.plot(history['loss'], label='Training Loss')\n",
    "plt.plot(history['val_loss'], label='Validation Loss')\n",
    "plt.title('Model Loss')\n",
    "plt.ylabel('Loss')\n",
    "plt.xlabel('Epoch')\n",
    "plt.legend(loc='upper right')\n",
    "\n",
    "plt.tight_layout()\n",
    "plt.show()"
   ]
  },
  {
   "cell_type": "markdown",
   "metadata": {},
   "source": [
    "### Analysis\n",
    "Model achieves the set 0.95 accuracy values for both training and validation.\n",
    "The model actually stopped training before the limit of 150 epochs because of the early_stopping to reduce overfitting."
   ]
  }
 ],
 "metadata": {
  "kernelspec": {
   "display_name": ".conda",
   "language": "python",
   "name": "python3"
  },
  "language_info": {
   "codemirror_mode": {
    "name": "ipython",
    "version": 3
   },
   "file_extension": ".py",
   "mimetype": "text/x-python",
   "name": "python",
   "nbconvert_exporter": "python",
   "pygments_lexer": "ipython3",
   "version": "3.11.11"
  }
 },
 "nbformat": 4,
 "nbformat_minor": 2
}
