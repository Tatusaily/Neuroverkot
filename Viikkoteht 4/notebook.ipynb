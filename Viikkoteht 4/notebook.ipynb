{
 "cells": [
  {
   "cell_type": "markdown",
   "id": "f2751b2c",
   "metadata": {},
   "source": [
    "### Sanavektorit"
   ]
  },
  {
   "cell_type": "code",
   "execution_count": 8,
   "id": "87f829c0",
   "metadata": {},
   "outputs": [
    {
     "name": "stdout",
     "output_type": "stream",
     "text": [
      "The words closest to the resulting vector are: ['queen', 'monarch', 'throne', 'daughter', 'prince', 'princess', 'mother', 'elizabeth', 'father', 'wife']\n"
     ]
    }
   ],
   "source": [
    "import numpy as np\n",
    "from scipy.spatial.distance import cosine\n",
    "\n",
    "# Avataan glove\n",
    "def load_glove_embeddings(file_path):\n",
    "    embeddings = {}\n",
    "    with open(file_path, 'r', encoding='utf-8') as f:\n",
    "        for line in f:\n",
    "            values = line.split()\n",
    "            word = values[0]\n",
    "            vector = np.array(values[1:], dtype='float32')\n",
    "            embeddings[word] = vector\n",
    "    return embeddings\n",
    "\n",
    "# Haetaan lähin sana kosinin etäisyyden avulla\n",
    "def find_nearest_words(embeddings, target_vector, n=10):\n",
    "    distances = {}\n",
    "    for word, vector in embeddings.items():\n",
    "        # Ei oteta huomioon laskettavaa sanaa\n",
    "        if word == \"king\":\n",
    "            continue\n",
    "        distance = cosine(target_vector, vector)\n",
    "        distances[word] = distance\n",
    "    \n",
    "    # Sort by distance and return the top n words\n",
    "    sorted_words = sorted(distances.items(), key=lambda x: x[1])\n",
    "    \n",
    "    if n == 1:\n",
    "        return sorted_words[0][0]\n",
    "    else:\n",
    "        return [word for word, distance in sorted_words[:n]]\n",
    "\n",
    "\n",
    "glove_file_path = \"glove.6B.100d.txt\"\n",
    "embeddings = load_glove_embeddings(glove_file_path)\n",
    "\n",
    "# Haetaan vektorit ja suoritetaan lasku\n",
    "vec_man = embeddings[\"man\"]\n",
    "vec_woman = embeddings[\"woman\"]\n",
    "vec_king = embeddings[\"king\"]\n",
    "\n",
    "result_vector = vec_woman - vec_man + vec_king\n",
    "\n",
    "# Etsitään lähimmät sanat laskettuun vektoriin\n",
    "nearest_words = find_nearest_words(embeddings, result_vector)\n",
    "\n",
    "print(f\"The words closest to the resulting vector are: {nearest_words}\")"
   ]
  },
  {
   "cell_type": "markdown",
   "id": "98d19289",
   "metadata": {},
   "source": [
    "#### Mietteet:\n",
    "vec('woman') - vec('man') + vec('king') tutkii \"Woman\" ja \"Man\" sanojen semanttista eroavaisuutta ja +vec('king') lisää tähän tulokseen vertailun kuninkaallisuuteen liityvään sanaan. Toisin sanoen, etsitään sanoja, jotka liittyvät sanaan \"king\" samalla tavalla, kuin sanat \"man\" ja \"woman\" liittyvät toisiinsa.\n",
    "\n",
    "Koodissani on 10 lähintä sanaa, koska halusin tutkia, minkälaisia sanoja koodi palauttaa.\n",
    "Ennalta arvatusti, palautetut sanat ovat ['queen', 'monarch', 'throne', 'daughter', 'prince', 'princess', 'mother', 'elizabeth', 'father', 'wife'], eli kuninkaaseen ja kuninkaan perheeseen liittyviä sanoja.\n",
    "\n",
    "Mielenkiintoisesti yksi palautetuista sanoinsta on \"Elizabeth\"."
   ]
  }
 ],
 "metadata": {
  "kernelspec": {
   "display_name": "seToinenEnvi",
   "language": "python",
   "name": "python3"
  },
  "language_info": {
   "codemirror_mode": {
    "name": "ipython",
    "version": 3
   },
   "file_extension": ".py",
   "mimetype": "text/x-python",
   "name": "python",
   "nbconvert_exporter": "python",
   "pygments_lexer": "ipython3",
   "version": "3.11.11"
  }
 },
 "nbformat": 4,
 "nbformat_minor": 5
}
